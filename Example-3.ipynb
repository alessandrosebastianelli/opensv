{
 "cells": [
  {
   "cell_type": "markdown",
   "id": "bca8387d-1667-42b4-9ac0-ac4ac8d2887d",
   "metadata": {},
   "source": [
    "# OpenSV - Example 3\n",
    "\n",
    "Modules under testing:\n",
    "- reader\n",
    "- normalizer\n",
    "- 3D plots"
   ]
  },
  {
   "cell_type": "code",
   "execution_count": 8,
   "id": "56ff5adf-443c-4228-8fe0-ba02cd5e4e1e",
   "metadata": {},
   "outputs": [],
   "source": [
    "from opensv.io.reader import load\n",
    "from opensv.pre.normalizer import max_scaler\n",
    "from opensv.plot.cube import cube_plot"
   ]
  },
  {
   "cell_type": "code",
   "execution_count": 2,
   "id": "79be26b8-4b7b-4863-9dd9-02056afa8de6",
   "metadata": {},
   "outputs": [],
   "source": [
    "import numpy as np\n",
    "import matplotlib.pyplot as plt\n",
    "%matplotlib inline"
   ]
  },
  {
   "cell_type": "markdown",
   "id": "b544bd87-79d9-491e-a0d0-d859ed5ebd26",
   "metadata": {},
   "source": [
    "## Read the image and its metadata"
   ]
  },
  {
   "cell_type": "code",
   "execution_count": 4,
   "id": "fdaf086c-5755-4cd2-8af4-0c88578421c7",
   "metadata": {},
   "outputs": [],
   "source": [
    "img, _, _ = load('tests/data/S2-lat_45_85299971127813_lon_10_852932810361423-2019-06-21.tif')"
   ]
  },
  {
   "cell_type": "markdown",
   "id": "b16d17c8-7260-467d-9814-b9ae58535fde",
   "metadata": {},
   "source": [
    "## Scale the values to a plottable range"
   ]
  },
  {
   "cell_type": "code",
   "execution_count": 5,
   "id": "0c1c530e-58bc-484e-a597-88fa4f792f15",
   "metadata": {},
   "outputs": [],
   "source": [
    "img = max_scaler(img, mmax = 10000)"
   ]
  },
  {
   "cell_type": "markdown",
   "id": "b42213d7-6cc2-4888-b06b-b0d3e556d21d",
   "metadata": {},
   "source": [
    "## Datacube\n",
    "\n",
    "We need to expand the channels axis for a better visualization. The bands will be repeated 10 times"
   ]
  },
  {
   "cell_type": "code",
   "execution_count": null,
   "id": "0a34b70b-8626-489b-b608-12b96ad9ddc0",
   "metadata": {},
   "outputs": [],
   "source": [
    "expanded = np.repeat(img[:,:,:-3], 10, axis=-1)"
   ]
  },
  {
   "cell_type": "code",
   "execution_count": 9,
   "id": "6a361c92-8706-44b8-a22c-c5f775c474d1",
   "metadata": {},
   "outputs": [
    {
     "name": "stderr",
     "output_type": "stream",
     "text": [
      "2022-07-08 10:32:34.814 Python[1875:4573928] ApplePersistenceIgnoreState: Existing state will not be touched. New state will be written to /var/folders/hf/6vr012hd6cd834np8_jd7q840000gn/T/org.python.python.savedState\n"
     ]
    }
   ],
   "source": [
    "cube_plot(expanded)"
   ]
  },
  {
   "cell_type": "code",
   "execution_count": null,
   "id": "e9eb1e98-98af-44f1-b3ed-7ab3fa16e79a",
   "metadata": {},
   "outputs": [],
   "source": []
  }
 ],
 "metadata": {
  "kernelspec": {
   "display_name": "Python 3 (ipykernel)",
   "language": "python",
   "name": "python3"
  },
  "language_info": {
   "codemirror_mode": {
    "name": "ipython",
    "version": 3
   },
   "file_extension": ".py",
   "mimetype": "text/x-python",
   "name": "python",
   "nbconvert_exporter": "python",
   "pygments_lexer": "ipython3",
   "version": "3.8.10"
  }
 },
 "nbformat": 4,
 "nbformat_minor": 5
}
