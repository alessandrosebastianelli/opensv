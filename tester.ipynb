{
 "cells": [
  {
   "cell_type": "code",
   "execution_count": 2,
   "id": "56ff5adf-443c-4228-8fe0-ba02cd5e4e1e",
   "metadata": {},
   "outputs": [],
   "source": [
    "from opensv.io.reader import load\n",
    "from opensv.post.composite import rgb_composite\n",
    "from opensv.pre.normalizer import max_scaler\n",
    "from opensv.plot.cube import cube_plot\n",
    "from opensv.utils.printer import print_stats"
   ]
  },
  {
   "cell_type": "code",
   "execution_count": 14,
   "id": "79be26b8-4b7b-4863-9dd9-02056afa8de6",
   "metadata": {},
   "outputs": [],
   "source": [
    "import numpy as np\n",
    "import matplotlib.pyplot as plt"
   ]
  },
  {
   "cell_type": "code",
   "execution_count": 8,
   "id": "75cb09bc-109d-4c11-87a4-7ed92ef785c7",
   "metadata": {},
   "outputs": [],
   "source": [
    "img, meta, bounds = load('tests/data/S2-lat_45_85299971127813_lon_10_852932810361423-2019-06-21.tif')\n",
    "img = max_scaler(img, mmax = 10000)\n",
    "rgb = 3*rgb_composite(img, rgb=[3, 2, 1])\n",
    "\n",
    "expanded = np.repeat(img[:,:,:10], 10, axis=-1)\n",
    "\n",
    "#print_stats(img, perband=False)\n",
    "#print_stats(img, perband=True)\n",
    "cube_plot(expanded)\n"
   ]
  },
  {
   "cell_type": "code",
   "execution_count": null,
   "id": "8d88ffb3-ec84-4544-b3de-91d363170457",
   "metadata": {},
   "outputs": [],
   "source": []
  }
 ],
 "metadata": {
  "kernelspec": {
   "display_name": "Python 3 (ipykernel)",
   "language": "python",
   "name": "python3"
  },
  "language_info": {
   "codemirror_mode": {
    "name": "ipython",
    "version": 3
   },
   "file_extension": ".py",
   "mimetype": "text/x-python",
   "name": "python",
   "nbconvert_exporter": "python",
   "pygments_lexer": "ipython3",
   "version": "3.8.10"
  }
 },
 "nbformat": 4,
 "nbformat_minor": 5
}
