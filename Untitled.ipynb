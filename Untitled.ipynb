{
 "cells": [
  {
   "cell_type": "code",
   "execution_count": 2,
   "id": "e05dd538-b301-4ab6-9c54-f132642ae5a1",
   "metadata": {},
   "outputs": [],
   "source": [
    "import numpy as np\n",
    "import matplotlib.pyplot as plt"
   ]
  },
  {
   "cell_type": "code",
   "execution_count": 46,
   "id": "c4612cd6-f2cc-4141-ac70-7eb4b7099cd7",
   "metadata": {},
   "outputs": [],
   "source": [
    "shape = 256\n"
   ]
  },
  {
   "cell_type": "code",
   "execution_count": 47,
   "id": "e7637b79-415f-4297-af51-73fce682ec10",
   "metadata": {},
   "outputs": [],
   "source": [
    "x = np.linspace(-1, 1, shape)\n",
    "y = np.linspace(-1, 1, shape)\n",
    "x, y = np.meshgrid(x,y)"
   ]
  },
  {
   "cell_type": "code",
   "execution_count": 59,
   "id": "aee1f70f-ebdb-422a-aab5-d845e52070f1",
   "metadata": {},
   "outputs": [],
   "source": [
    "r = 1- np.sqrt(x**2 + y**2)"
   ]
  },
  {
   "cell_type": "code",
   "execution_count": 60,
   "id": "7ea4a8e4-50d7-4836-9915-e73d83f8661f",
   "metadata": {},
   "outputs": [
    {
     "data": {
      "image/png": "[encoded data removed]",
      "text/plain": [
       "<Figure size 432x288 with 1 Axes>"
      ]
     },
     "metadata": {
      "needs_background": "light"
     },
     "output_type": "display_data"
    }
   ],
   "source": [
    "img = np.ones((shape, shape))\n",
    "\n",
    "img[r<0.5] = 0 \n",
    "plt.imshow(img, vmin = 0, vmax = 1, cmap = 'gray')\n",
    "plt.show()"
   ]
  },
  {
   "cell_type": "code",
   "execution_count": null,
   "id": "4359a9de-e1da-4e6b-ad8d-e5a1bde81f70",
   "metadata": {},
   "outputs": [],
   "source": [
    "%fourier transform\n",
    "If = fftshift(fft2(I));\n",
    "\n",
    "%create the filter as a mask with circle of radius 50\n",
    "rx = (1:size(I,1)) - size(I,1)/2;\n",
    "ry = (1:size(I,2)) - size(I,2)/2;\n",
    "\n",
    "[X,Y] = meshgrid(rx,ry);\n",
    "R = sqrt(X.^2 + Y.^2);\n",
    "Ifhw = If;\n",
    "Ifhw(R < 25) = 0;  % we kill the low frequencies\n",
    "\n",
    "%get the inversed fourier transform\n",
    "Ihw = abs(ifft2(Iflw));\n"
   ]
  }
 ],
 "metadata": {
  "kernelspec": {
   "display_name": "Python 3 (ipykernel)",
   "language": "python",
   "name": "python3"
  },
  "language_info": {
   "codemirror_mode": {
    "name": "ipython",
    "version": 3
   },
   "file_extension": ".py",
   "mimetype": "text/x-python",
   "name": "python",
   "nbconvert_exporter": "python",
   "pygments_lexer": "ipython3",
   "version": "3.8.10"
  }
 },
 "nbformat": 4,
 "nbformat_minor": 5
}
