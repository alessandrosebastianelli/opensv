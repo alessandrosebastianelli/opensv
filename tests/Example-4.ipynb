{
 "cells": [
  {
   "cell_type": "markdown",
   "id": "bca8387d-1667-42b4-9ac0-ac4ac8d2887d",
   "metadata": {},
   "source": [
    "# OpenSV - Example 4\n",
    "\n",
    "Modules under testing:\n",
    "- reader\n",
    "- normalizer\n",
    "- composite\n",
    "- geoplot"
   ]
  },
  {
   "cell_type": "code",
   "execution_count": null,
   "id": "56ff5adf-443c-4228-8fe0-ba02cd5e4e1e",
   "metadata": {},
   "outputs": [],
   "source": [
    "from pyosv.io.reader import load\n",
    "from pyosv.pre.normalizer import max_scaler\n",
    "from pyosv.plot.geo import geo_plot\n",
    "from pyosv.post.composite import rgb_composite"
   ]
  },
  {
   "cell_type": "code",
   "execution_count": null,
   "id": "79be26b8-4b7b-4863-9dd9-02056afa8de6",
   "metadata": {},
   "outputs": [],
   "source": [
    "import numpy as np\n",
    "import matplotlib.pyplot as plt\n",
    "%matplotlib inline"
   ]
  },
  {
   "cell_type": "markdown",
   "id": "b544bd87-79d9-491e-a0d0-d859ed5ebd26",
   "metadata": {},
   "source": [
    "## Read the image and its metadata"
   ]
  },
  {
   "cell_type": "code",
   "execution_count": null,
   "id": "fdaf086c-5755-4cd2-8af4-0c88578421c7",
   "metadata": {},
   "outputs": [],
   "source": [
    "img, meta, bounds = load('tests/data/S2-lat_45_85299971127813_lon_10_852932810361423-2019-06-21.tif')"
   ]
  },
  {
   "cell_type": "markdown",
   "id": "b16d17c8-7260-467d-9814-b9ae58535fde",
   "metadata": {},
   "source": [
    "## Scale the values to a plottable range"
   ]
  },
  {
   "cell_type": "code",
   "execution_count": null,
   "id": "0c1c530e-58bc-484e-a597-88fa4f792f15",
   "metadata": {},
   "outputs": [],
   "source": [
    "img = max_scaler(img, mmax = 10000)"
   ]
  },
  {
   "cell_type": "markdown",
   "id": "5e5567df-ffbc-4690-9ae6-1e6e9c4238ca",
   "metadata": {
    "tags": []
   },
   "source": [
    "## Create an RGB composite"
   ]
  },
  {
   "cell_type": "code",
   "execution_count": null,
   "id": "1d79c83e-a4b6-4206-a236-5fecbe48d79f",
   "metadata": {},
   "outputs": [],
   "source": [
    "rgb = 3*rgb_composite(img, rgb=[3, 2, 1])"
   ]
  },
  {
   "cell_type": "markdown",
   "id": "57654ae4-9e17-4043-b3b0-581441887569",
   "metadata": {},
   "source": [
    "# Geo Plot"
   ]
  },
  {
   "cell_type": "code",
   "execution_count": null,
   "id": "6a361c92-8706-44b8-a22c-c5f775c474d1",
   "metadata": {},
   "outputs": [],
   "source": [
    "geo_plot(rgb, meta, bounds)"
   ]
  },
  {
   "cell_type": "code",
   "execution_count": null,
   "id": "e9eb1e98-98af-44f1-b3ed-7ab3fa16e79a",
   "metadata": {},
   "outputs": [],
   "source": []
  }
 ],
 "metadata": {
  "kernelspec": {
   "display_name": "Python 3 (ipykernel)",
   "language": "python",
   "name": "python3"
  },
  "language_info": {
   "codemirror_mode": {
    "name": "ipython",
    "version": 3
   },
   "file_extension": ".py",
   "mimetype": "text/x-python",
   "name": "python",
   "nbconvert_exporter": "python",
   "pygments_lexer": "ipython3",
   "version": "3.8.10"
  }
 },
 "nbformat": 4,
 "nbformat_minor": 5
}
