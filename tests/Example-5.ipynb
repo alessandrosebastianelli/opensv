{
 "cells": [
  {
   "cell_type": "markdown",
   "id": "bca8387d-1667-42b4-9ac0-ac4ac8d2887d",
   "metadata": {},
   "source": [
    "# OpenSV - Example 5\n",
    "\n",
    "Modules under testing:\n",
    "- reader\n",
    "- normalizer\n",
    "- cloud mask\n",
    "- ndvi\n",
    "- plot"
   ]
  },
  {
   "cell_type": "code",
   "execution_count": null,
   "id": "56ff5adf-443c-4228-8fe0-ba02cd5e4e1e",
   "metadata": {},
   "outputs": [],
   "source": [
    "from pyosv.io.reader import load\n",
    "from pyosv.pre.normalizer import max_scaler\n",
    "from pyosv.post.composite import rgb_composite\n",
    "from pyosv.post.clouds import cloud_detector\n",
    "from pyosv.post.indices import ndvi\n",
    "from pyosv.plot.plot import plot"
   ]
  },
  {
   "cell_type": "code",
   "execution_count": null,
   "id": "79be26b8-4b7b-4863-9dd9-02056afa8de6",
   "metadata": {},
   "outputs": [],
   "source": [
    "import numpy as np\n",
    "import matplotlib.pyplot as plt\n",
    "%matplotlib inline"
   ]
  },
  {
   "cell_type": "markdown",
   "id": "b544bd87-79d9-491e-a0d0-d859ed5ebd26",
   "metadata": {},
   "source": [
    "## Read the image and its metadata"
   ]
  },
  {
   "cell_type": "code",
   "execution_count": null,
   "id": "fdaf086c-5755-4cd2-8af4-0c88578421c7",
   "metadata": {},
   "outputs": [],
   "source": [
    "img, meta, bounds = load('tests/data/S2-lat_45_85299971127813_lon_10_852932810361423-2019-06-21.tif')"
   ]
  },
  {
   "cell_type": "markdown",
   "id": "b16d17c8-7260-467d-9814-b9ae58535fde",
   "metadata": {},
   "source": [
    "## Scale the values to a plottable range"
   ]
  },
  {
   "cell_type": "code",
   "execution_count": null,
   "id": "0c1c530e-58bc-484e-a597-88fa4f792f15",
   "metadata": {},
   "outputs": [],
   "source": [
    "img = max_scaler(img, mmax = 10000)"
   ]
  },
  {
   "cell_type": "markdown",
   "id": "bbbe81af-f029-43ab-899e-d9c76aa37c39",
   "metadata": {},
   "source": [
    "## Clouds detection"
   ]
  },
  {
   "cell_type": "code",
   "execution_count": null,
   "id": "447b4ba4-b853-4d4d-a0d2-556002101d08",
   "metadata": {},
   "outputs": [],
   "source": [
    "mask = cloud_detector(img, cloud_threshold=0.2)"
   ]
  },
  {
   "cell_type": "code",
   "execution_count": null,
   "id": "4bc4406e-2e32-4433-bdd2-f5698a9c12bc",
   "metadata": {},
   "outputs": [],
   "source": [
    "plot(mask[..., np.newaxis], hist = True)"
   ]
  },
  {
   "cell_type": "markdown",
   "id": "33bff922-3f2d-4534-9127-70ba641461e5",
   "metadata": {},
   "source": [
    "## NDVI"
   ]
  },
  {
   "cell_type": "code",
   "execution_count": null,
   "id": "d8c0bdae-ca13-4bbb-a3fa-4a4bc3abc809",
   "metadata": {},
   "outputs": [],
   "source": [
    "ndvi_map = ndvi(img, red_index = 3, nir_index = 7)"
   ]
  },
  {
   "cell_type": "code",
   "execution_count": null,
   "id": "615b1dea-cc2a-4b91-b2a2-7eb5dac63754",
   "metadata": {},
   "outputs": [],
   "source": [
    "plot(ndvi_map[..., np.newaxis], hist = True)"
   ]
  },
  {
   "cell_type": "code",
   "execution_count": null,
   "id": "c297afa5-6034-401f-9147-9aeff7816870",
   "metadata": {},
   "outputs": [],
   "source": []
  }
 ],
 "metadata": {
  "kernelspec": {
   "display_name": "Python 3 (ipykernel)",
   "language": "python",
   "name": "python3"
  },
  "language_info": {
   "codemirror_mode": {
    "name": "ipython",
    "version": 3
   },
   "file_extension": ".py",
   "mimetype": "text/x-python",
   "name": "python",
   "nbconvert_exporter": "python",
   "pygments_lexer": "ipython3",
   "version": "3.8.10"
  }
 },
 "nbformat": 4,
 "nbformat_minor": 5
}
