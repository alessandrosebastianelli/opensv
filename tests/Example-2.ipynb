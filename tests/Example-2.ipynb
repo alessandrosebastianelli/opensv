{
 "cells": [
  {
   "cell_type": "markdown",
   "id": "bca8387d-1667-42b4-9ac0-ac4ac8d2887d",
   "metadata": {},
   "source": [
    "# OpenSV - Example 2\n",
    "\n",
    "Modules under testing:\n",
    "- reader\n",
    "- normalizer\n",
    "- printer\n",
    "- composite\n",
    "- patches extractor"
   ]
  },
  {
   "cell_type": "code",
   "execution_count": null,
   "id": "56ff5adf-443c-4228-8fe0-ba02cd5e4e1e",
   "metadata": {},
   "outputs": [],
   "source": [
    "from pyosv.io.reader import load\n",
    "from pyosv.post.composite import rgb_composite\n",
    "from pyosv.pre.normalizer import max_scaler\n",
    "from pyosv.utils.printer import print_stats, dict_disp\n",
    "from pyosv.post.patch_extractor import patch_iterator, patch_extractor"
   ]
  },
  {
   "cell_type": "code",
   "execution_count": null,
   "id": "79be26b8-4b7b-4863-9dd9-02056afa8de6",
   "metadata": {},
   "outputs": [],
   "source": [
    "import numpy as np\n",
    "import matplotlib.pyplot as plt\n",
    "%matplotlib inline"
   ]
  },
  {
   "cell_type": "markdown",
   "id": "b544bd87-79d9-491e-a0d0-d859ed5ebd26",
   "metadata": {},
   "source": [
    "## Read the image and its metadata"
   ]
  },
  {
   "cell_type": "code",
   "execution_count": null,
   "id": "fdaf086c-5755-4cd2-8af4-0c88578421c7",
   "metadata": {},
   "outputs": [],
   "source": [
    "img, meta, _ = load('tests/data/S2-lat_45_85299971127813_lon_10_852932810361423-2019-06-21.tif')"
   ]
  },
  {
   "cell_type": "code",
   "execution_count": null,
   "id": "94eb11f2-c317-4507-a419-5f9b7896fc2d",
   "metadata": {},
   "outputs": [],
   "source": [
    "print_stats(img)"
   ]
  },
  {
   "cell_type": "code",
   "execution_count": null,
   "id": "5ae8b54d-ef94-41c3-b9a2-d933865c9b03",
   "metadata": {},
   "outputs": [],
   "source": [
    "dict_disp(meta)"
   ]
  },
  {
   "cell_type": "markdown",
   "id": "b16d17c8-7260-467d-9814-b9ae58535fde",
   "metadata": {},
   "source": [
    "## Scale the values to a plottable range"
   ]
  },
  {
   "cell_type": "code",
   "execution_count": null,
   "id": "0c1c530e-58bc-484e-a597-88fa4f792f15",
   "metadata": {},
   "outputs": [],
   "source": [
    "img = max_scaler(img, mmax = 10000)"
   ]
  },
  {
   "cell_type": "code",
   "execution_count": null,
   "id": "14815a85-bdbf-44c4-9b5c-fccb9fc48ec9",
   "metadata": {},
   "outputs": [],
   "source": [
    "print_stats(img)"
   ]
  },
  {
   "cell_type": "markdown",
   "id": "d91e0653-1ed7-4a7d-825e-427d5da9d96d",
   "metadata": {
    "tags": []
   },
   "source": [
    "## Create an RGB composite"
   ]
  },
  {
   "cell_type": "code",
   "execution_count": null,
   "id": "97b80b2b-be67-45f9-ae12-9cea2195578f",
   "metadata": {},
   "outputs": [],
   "source": [
    "rgb = 3*rgb_composite(img, rgb=[3, 2, 1])"
   ]
  },
  {
   "cell_type": "code",
   "execution_count": null,
   "id": "6ae8eca6-ec7d-4925-a5c6-0c6912a82ccb",
   "metadata": {
    "collapsed": true,
    "jupyter": {
     "outputs_hidden": true
    },
    "tags": []
   },
   "outputs": [],
   "source": [
    "fig = plt.figure(figsize = (10,10))\n",
    "plt.imshow(np.clip(rgb, 0.0, 1.0))\n",
    "plt.axis(False)\n",
    "plt.show()"
   ]
  },
  {
   "cell_type": "markdown",
   "id": "20ed6d7f-6d96-4f45-9b78-78db39deea83",
   "metadata": {
    "tags": []
   },
   "source": [
    "## Patch extractor\n",
    "\n",
    "It allows to store all the patches in a single vector but it requires more memory"
   ]
  },
  {
   "cell_type": "code",
   "execution_count": null,
   "id": "a3240139-6a04-44ae-9fd7-b24271329808",
   "metadata": {},
   "outputs": [],
   "source": [
    "patches = patch_extractor(rgb, shape=(64,64), stride = (64,64))\n",
    "print(patches.shape)"
   ]
  },
  {
   "cell_type": "code",
   "execution_count": null,
   "id": "772ce1bd-41d0-4b86-9ccc-457c4d82190b",
   "metadata": {},
   "outputs": [],
   "source": [
    "fig, axes = plt.subplots(nrows = 16, ncols = 16, figsize = (16,16))\n",
    "ct = 0\n",
    "for i in range(16):\n",
    "    for j in range(16):\n",
    "        axes[i,j].imshow(np.clip(patches[ct,...], 0, 1))\n",
    "        axes[i,j].axis(False)\n",
    "        ct+=1\n",
    "plt.show()"
   ]
  },
  {
   "cell_type": "markdown",
   "id": "51ae24ef-606f-480f-b85f-d8c57b5b7246",
   "metadata": {},
   "source": [
    "## Parch Iterator\n",
    "\n",
    "It allows to iterate the image axis to get the patches, it is more efficient in terms of memory usage"
   ]
  },
  {
   "cell_type": "code",
   "execution_count": null,
   "id": "b1e86146-30f9-43e2-bfc2-325efe1531ea",
   "metadata": {},
   "outputs": [],
   "source": [
    "patches = iter(patch_iterator(rgb, shape=(64,64), stride = (64,64)))"
   ]
  },
  {
   "cell_type": "code",
   "execution_count": null,
   "id": "9916fd20-d8ca-4ddf-927a-997e82d745ac",
   "metadata": {
    "tags": []
   },
   "outputs": [],
   "source": [
    "fig, axes = plt.subplots(nrows = 16, ncols = 16, figsize = (16,16))\n",
    "\n",
    "for i in range(16):\n",
    "    for j in range(16):\n",
    "        axes[i,j].imshow(np.clip(next(patches), 0,1))\n",
    "        axes[i,j].axis(False)\n",
    "plt.show()       "
   ]
  },
  {
   "cell_type": "code",
   "execution_count": null,
   "id": "4f4e6c0e-5ae8-4bfd-8d28-6c83c8068b4b",
   "metadata": {},
   "outputs": [],
   "source": []
  }
 ],
 "metadata": {
  "kernelspec": {
   "display_name": "Python 3 (ipykernel)",
   "language": "python",
   "name": "python3"
  },
  "language_info": {
   "codemirror_mode": {
    "name": "ipython",
    "version": 3
   },
   "file_extension": ".py",
   "mimetype": "text/x-python",
   "name": "python",
   "nbconvert_exporter": "python",
   "pygments_lexer": "ipython3",
   "version": "3.8.10"
  }
 },
 "nbformat": 4,
 "nbformat_minor": 5
}
